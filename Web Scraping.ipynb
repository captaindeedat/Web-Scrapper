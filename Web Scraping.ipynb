{
 "cells": [
  {
   "cell_type": "markdown",
   "metadata": {},
   "source": [
    "# This is a web scrapper for Intenship and Entry Level Jobs In Nigeria"
   ]
  },
  {
   "cell_type": "markdown",
   "metadata": {},
   "source": [
    "## We will attempt to scrape data from a Popular Web Site in Nigeria(Nairaland). There is a Thread on the website with frequent web listing for Entry level Jobs"
   ]
  },
  {
   "cell_type": "code",
   "execution_count": 1,
   "metadata": {},
   "outputs": [],
   "source": [
    "#Let's import the required library\n",
    "import requests\n",
    "import bs4\n",
    "req = requests.get(\"https://www.nairaland.com/3304020/internships-entry-level-jobs-nigeria\")"
   ]
  },
  {
   "cell_type": "markdown",
   "metadata": {},
   "source": [
    "### We will export the content to a textfile to see what we have in it"
   ]
  },
  {
   "cell_type": "code",
   "execution_count": 2,
   "metadata": {},
   "outputs": [],
   "source": [
    "file = open(r'extract.txt', 'w', encoding=\"utf-8\")\n",
    "file.write(req.text)\n",
    "file.close()"
   ]
  },
  {
   "cell_type": "code",
   "execution_count": 3,
   "metadata": {},
   "outputs": [],
   "source": [
    "fl = open(r'extract.txt').read()\n",
    "page = bs4.BeautifulSoup(fl)"
   ]
  },
  {
   "cell_type": "markdown",
   "metadata": {},
   "source": [
    "Our mission for now is to determine the number of pages the thread has. Looking at the textfile we would see that the information can be found in a class 'nocopy' and within the 'href' tag."
   ]
  },
  {
   "cell_type": "code",
   "execution_count": 4,
   "metadata": {},
   "outputs": [
    {
     "data": {
      "text/plain": [
       "<a href=\"/3304020/internships-entry-level-jobs-nigeria/1\">(2)</a>"
      ]
     },
     "execution_count": 4,
     "metadata": {},
     "output_type": "execute_result"
    }
   ],
   "source": [
    "elements = page.select('.nocopy a')\n",
    "elements[0]"
   ]
  },
  {
   "cell_type": "markdown",
   "metadata": {},
   "source": [
    "Now, we have a challenge, There are multiple elements with a class 'nocopy' and a tag of 'href'"
   ]
  },
  {
   "cell_type": "code",
   "execution_count": 5,
   "metadata": {},
   "outputs": [
    {
     "data": {
      "text/plain": [
       "<a href=\"/3304020/internships-entry-level-jobs-nigeria/66\">(67)</a>"
      ]
     },
     "execution_count": 5,
     "metadata": {},
     "output_type": "execute_result"
    }
   ],
   "source": [
    "#Let's use a filter to remove elements not starting with '<a href=\"/3304020'. That way we can get the last pageLet\n",
    "actual = list(filter(lambda x: str(x)[:17] == '<a href=\"/3304020', elements))\n",
    "actual[-1]"
   ]
  },
  {
   "cell_type": "markdown",
   "metadata": {},
   "source": [
    "Let's get the number of the last page"
   ]
  },
  {
   "cell_type": "code",
   "execution_count": 6,
   "metadata": {},
   "outputs": [
    {
     "data": {
      "text/plain": [
       "67"
      ]
     },
     "execution_count": 6,
     "metadata": {},
     "output_type": "execute_result"
    }
   ],
   "source": [
    "def lastPageIndex(st):\n",
    "    x,y = st.index('('), st.index(')')\n",
    "    v = st[x+1:y]\n",
    "    return int(v)\n",
    "num_page = lastPageIndex(str(actual[-1]))\n",
    "num_page"
   ]
  },
  {
   "cell_type": "markdown",
   "metadata": {},
   "source": [
    "We can now see that the thread has 67 pages(at the time this project was executed), with the last page been 67-1.\n",
    "let us scrape the last and second to the last pages."
   ]
  },
  {
   "cell_type": "code",
   "execution_count": 7,
   "metadata": {},
   "outputs": [],
   "source": [
    "req1 = requests.get(\"https://www.nairaland.com/3304020/internships-entry-level-jobs-nigeria/\"+str(num_page-1))\n",
    "req2 = requests.get(\"https://www.nairaland.com/3304020/internships-entry-level-jobs-nigeria/\"+str(num_page-2))\n",
    "preg = str(req1.text) + str(req2.text)\n",
    "file = open(r'extract1.txt', 'w', encoding=\"utf-8\")\n",
    "file.write(preg)\n",
    "file.close()"
   ]
  },
  {
   "cell_type": "markdown",
   "metadata": {},
   "source": [
    "After going through the file we can see that the Job lists are in the 'table' tag and in the class 'narrow'"
   ]
  },
  {
   "cell_type": "code",
   "execution_count": 8,
   "metadata": {},
   "outputs": [],
   "source": [
    "file = open(r'extract1.txt',encoding=\"utf-8\").read()\n",
    "page = bs4.BeautifulSoup(file)\n",
    "element = page.select('table .narrow') "
   ]
  },
  {
   "cell_type": "code",
   "execution_count": 9,
   "metadata": {},
   "outputs": [
    {
     "data": {
      "text/plain": [
       "<div class=\"narrow\"><a href=\"https://careersome.com/site/job?id=male-administrative-staff-at-pickmeup-international-company-owerri-imo\">https://careersome.com/site/job?id=male-administrative-staff-at-pickmeup-international-company-owerri-imo</a><br/>Male Administrative Staff​ at Pickmeup International Company - Owerri, Imo​.<br/><br/><a href=\"https://careersome.com/site/job?id=loan-officer-at-workforce-group\">https://careersome.com/site/job?id=loan-officer-at-workforce-group</a><br/>Loan Officer at ​Workforce Group<br/><br/><a href=\"https://careersome.com/site/job?id=business-developer-at-romanspage-global\">https://careersome.com/site/job?id=business-developer-at-romanspage-global</a><br/>Business Developer at ​Romanspage Global<br/><br/><a href=\"https://careersome.com/site/job?id=client-relationship-officer-at-romanspage-global\">https://careersome.com/site/job?id=client-relationship-officer-at-romanspage-global</a><br/>Client Relationship Officer at ​Romanspage Global<br/><br/><a href=\"https://careersome.com/site/job?id=mechanical-engineer-at-mikano-foods\">https://careersome.com/site/job?id=mechanical-engineer-at-mikano-foods</a><br/>Mechanical Engineer at ​Mikano Foods<br/><br/><a href=\"https://careersome.com/site/job?id=electrical-engineer-at-mikano-foods\">https://careersome.com/site/job?id=electrical-engineer-at-mikano-foods</a><br/>Electrical Engineer at ​Mikano Foods<br/><br/><a href=\"https://careersome.com/site/job?id=secretary-front-desk-person-at-abiodun-adesanya-co\">https://careersome.com/site/job?id=secretary-front-desk-person-at-abiodun-adesanya-co</a><br/>Secretary / Front Desk Person at Abiodun Adesanya &amp; Co<br/><br/><a href=\"https://careersome.com/site/job?id=accounts-officer-at-zido\">https://careersome.com/site/job?id=accounts-officer-at-zido</a><br/>Accounts Officer at Zido<br/><br/><a href=\"https://careersome.com/site/job?id=accounts-assistant-at-inland-containers-nigeria-limited\">https://careersome.com/site/job?id=accounts-assistant-at-inland-containers-nigeria-limited</a><br/>Accounts Assistant at ​Inland Containers Nigeria Limited<br/><br/><a href=\"https://careersome.com/site/job?id=recruitment-officer-at-ics-outsourcing-3\">https://careersome.com/site/job?id=recruitment-officer-at-ics-outsourcing-3</a><br/>Recruitment Officer at ​ICS Outsourcing<br/><br/><a href=\"https://careersome.com/site/internship?id=sales-marketing-graduate-intern-at-tizeti-network-limited\">https://careersome.com/site/internship?id=sales-marketing-graduate-intern-at-tizeti-network-limited</a><br/>Sales / Marketing Graduate Intern at Tizeti Network Limited<br/><br/><a href=\"https://careersome.com/site/internship?id=accounting-finance-intern-at-norrenberger-financial-group\">https://careersome.com/site/internship?id=accounting-finance-intern-at-norrenberger-financial-group</a><br/>Accounting / Finance Intern at Norrenberger Financial Group</div>"
      ]
     },
     "execution_count": 9,
     "metadata": {},
     "output_type": "execute_result"
    }
   ],
   "source": [
    "#Let us check the first element\n",
    "element[0]"
   ]
  },
  {
   "cell_type": "markdown",
   "metadata": {},
   "source": [
    "We can see that each Job Offer and it's link is separated with the 'br' tag"
   ]
  },
  {
   "cell_type": "code",
   "execution_count": 10,
   "metadata": {},
   "outputs": [
    {
     "data": {
      "text/plain": [
       "['<div class=\"narrow\"><a href=\"https://careersome.com/site/job?id=male-administrative-staff-at-pickmeup-international-company-owerri-imo\">https://careersome.com/site/job?id=male-administrative-staff-at-pickmeup-international-company-owerri-imo</a>',\n",
       " 'Male Administrative Staff at Pickmeup International Company - Owerri, Imo.',\n",
       " '<a href=\"https://careersome.com/site/job?id=loan-officer-at-workforce-group\">https://careersome.com/site/job?id=loan-officer-at-workforce-group</a>',\n",
       " 'Loan Officer at Workforce Group',\n",
       " '<a href=\"https://careersome.com/site/job?id=business-developer-at-romanspage-global\">https://careersome.com/site/job?id=business-developer-at-romanspage-global</a>',\n",
       " 'Business Developer at Romanspage Global',\n",
       " '<a href=\"https://careersome.com/site/job?id=client-relationship-officer-at-romanspage-global\">https://careersome.com/site/job?id=client-relationship-officer-at-romanspage-global</a>',\n",
       " 'Client Relationship Officer at Romanspage Global',\n",
       " '<a href=\"https://careersome.com/site/job?id=mechanical-engineer-at-mikano-foods\">https://careersome.com/site/job?id=mechanical-engineer-at-mikano-foods</a>',\n",
       " 'Mechanical Engineer at Mikano Foods',\n",
       " '<a href=\"https://careersome.com/site/job?id=electrical-engineer-at-mikano-foods\">https://careersome.com/site/job?id=electrical-engineer-at-mikano-foods</a>',\n",
       " 'Electrical Engineer at Mikano Foods',\n",
       " '<a href=\"https://careersome.com/site/job?id=secretary-front-desk-person-at-abiodun-adesanya-co\">https://careersome.com/site/job?id=secretary-front-desk-person-at-abiodun-adesanya-co</a>',\n",
       " 'Secretary / Front Desk Person at Abiodun Adesanya &amp; Co',\n",
       " '<a href=\"https://careersome.com/site/job?id=accounts-officer-at-zido\">https://careersome.com/site/job?id=accounts-officer-at-zido</a>',\n",
       " 'Accounts Officer at Zido',\n",
       " '<a href=\"https://careersome.com/site/job?id=accounts-assistant-at-inland-containers-nigeria-limited\">https://careersome.com/site/job?id=accounts-assistant-at-inland-containers-nigeria-limited</a>',\n",
       " 'Accounts Assistant at Inland Containers Nigeria Limited',\n",
       " '<a href=\"https://careersome.com/site/job?id=recruitment-officer-at-ics-outsourcing-3\">https://careersome.com/site/job?id=recruitment-officer-at-ics-outsourcing-3</a>',\n",
       " 'Recruitment Officer at ICS Outsourcing',\n",
       " '<a href=\"https://careersome.com/site/internship?id=sales-marketing-graduate-intern-at-tizeti-network-limited\">https://careersome.com/site/internship?id=sales-marketing-graduate-intern-at-tizeti-network-limited</a>',\n",
       " 'Sales / Marketing Graduate Intern at Tizeti Network Limited',\n",
       " '<a href=\"https://careersome.com/site/internship?id=accounting-finance-intern-at-norrenberger-financial-group\">https://careersome.com/site/internship?id=accounting-finance-intern-at-norrenberger-financial-group</a>',\n",
       " 'Accounting / Finance Intern at Norrenberger Financial Group</div>']"
      ]
     },
     "execution_count": 10,
     "metadata": {},
     "output_type": "execute_result"
    }
   ],
   "source": [
    "#Let's repalce the <br/> tag with a new line character \\n. This will enable us split lines.\n",
    "first_element = element[0]\n",
    "first_element = str(first_element).replace('<br/>','\\n')\n",
    "#We need to remove the unwanted charcaters \\u200b \n",
    "first_element = str(first_element).replace('\\u200b','').splitlines()\n",
    "#some elements would be empty, we need to get rid of them\n",
    "first_element = list(filter(lambda x: x != '', first_element))\n",
    "first_element"
   ]
  },
  {
   "cell_type": "markdown",
   "metadata": {},
   "source": [
    "### We have been able to extract the first Job list in the first Post"
   ]
  },
  {
   "cell_type": "markdown",
   "metadata": {},
   "source": [
    "Let's Check each Job listed in the post. Note that the first element in the list contains the link to the Job while the next contains the description."
   ]
  },
  {
   "cell_type": "code",
   "execution_count": 11,
   "metadata": {},
   "outputs": [
    {
     "data": {
      "text/plain": [
       "'https://careersome.com/site/job?id=male-administrative-staff-at-pickmeup-international-company-owerri-imo'"
      ]
     },
     "execution_count": 11,
     "metadata": {},
     "output_type": "execute_result"
    }
   ],
   "source": [
    "pg = bs4.BeautifulSoup(first_element[0])\n",
    "pg.select('a')[0].getText()"
   ]
  },
  {
   "cell_type": "code",
   "execution_count": 12,
   "metadata": {},
   "outputs": [
    {
     "data": {
      "text/plain": [
       "'Male Administrative Staff at Pickmeup International Company - Owerri, Imo.'"
      ]
     },
     "execution_count": 12,
     "metadata": {},
     "output_type": "execute_result"
    }
   ],
   "source": [
    "first_element[1]"
   ]
  },
  {
   "cell_type": "markdown",
   "metadata": {},
   "source": [
    "Let Us create a method that extracts the details from all the post and taking into account that all the post aren't in the required format. We ask well group each Job description with it's link"
   ]
  },
  {
   "cell_type": "code",
   "execution_count": 13,
   "metadata": {},
   "outputs": [],
   "source": [
    "def extractGroup(ob):\n",
    "    #We need to ensure the length of the list is even (Job list followed by description)\n",
    "    h = (len(ob)//2)*2\n",
    "    smallList = []\n",
    "    bigList = []\n",
    "    for i in range(h):\n",
    "        if i % 2 == 0:\n",
    "            pg = bs4.BeautifulSoup(ob[i])\n",
    "            #Take care of elements without the 'a' tag\n",
    "            try:\n",
    "                sl = pg.select('a')[0].getText()\n",
    "                smallList.append(sl)\n",
    "            except:\n",
    "                smallList.append('')\n",
    "        else:\n",
    "            smallList.append(ob[i])\n",
    "            y = (ob[i],smallList[i-1])\n",
    "            bigList.append( y )\n",
    "    return bigList"
   ]
  },
  {
   "cell_type": "markdown",
   "metadata": {},
   "source": [
    "We now use the procedure we use to get required content from the first list for all the list"
   ]
  },
  {
   "cell_type": "code",
   "execution_count": 14,
   "metadata": {},
   "outputs": [],
   "source": [
    "JobList = []\n",
    "for elem in element:\n",
    "    elem_replace = str(elem).replace('<br/>','\\n').replace('\\u200b','').splitlines()\n",
    "    remove_empty = list(filter(lambda x: x != '', elem_replace))\n",
    "    new_list = extractGroup(remove_empty)\n",
    "    JobList.extend(new_list)"
   ]
  },
  {
   "cell_type": "code",
   "execution_count": 15,
   "metadata": {},
   "outputs": [
    {
     "data": {
      "text/plain": [
       "('Male Administrative Staff at Pickmeup International Company - Owerri, Imo.',\n",
       " 'https://careersome.com/site/job?id=male-administrative-staff-at-pickmeup-international-company-owerri-imo')"
      ]
     },
     "execution_count": 15,
     "metadata": {},
     "output_type": "execute_result"
    }
   ],
   "source": [
    "#checking the first Job details\n",
    "JobList[0]"
   ]
  },
  {
   "cell_type": "markdown",
   "metadata": {},
   "source": [
    "## Now let's search our Job List for Jobs"
   ]
  },
  {
   "cell_type": "code",
   "execution_count": 16,
   "metadata": {},
   "outputs": [],
   "source": [
    "import re"
   ]
  },
  {
   "cell_type": "code",
   "execution_count": 17,
   "metadata": {},
   "outputs": [
    {
     "name": "stdout",
     "output_type": "stream",
     "text": [
      "Citibank Middle East and Africa Analyst Program 2020, Nigeria</div>\n",
      "https://careersome.com/site/job?id=citibank-middle-east-and-africa-analyst-program-2020-nigeria\n",
      "Procurement Analyst at Arnergy Solar Limited\n",
      "https://careersome.com/site/job?id=procurement-analyst-at-arnergy-solar-limited\n",
      "Pricing &amp; Revenue Management Analyst at Finchglow Travels\n",
      "https://careersome.com/site/job?id=pricing-revenue-management-analyst-at-finchglow-travels\n",
      "Pricing Analyst at Paykobo.com\n",
      "https://careersome.com/site/job?id=pricing-analyst-at-paykobocom\n",
      "Quality Control Support Analyst at RxAll Inc - Ibadan\n",
      "https://careersome.com/site/job?id=quality-control-support-analyst-at-rxall-inc-ibadan\n",
      "SME Analyst at Enugu SME Agency\n",
      "https://careersome.com/site/job?id=sme-analyst-at-enugu-sme-agency\n",
      "Tableau Business Analyst / BI Analyst at Vascon Solutions\n",
      "https://careersome.com/site/job?id=tableau-business-analyst-bi-analyst-at-vascon-solutions\n",
      "Credit Risk Analyst - Intern at BoroMe Limited</div>\n",
      "https://careersome.com/site/internship?id=credit-risk-analyst-intern-at-borome-limited\n",
      "IHS Towers Finance Analyst Program in Lagos, Nigeria\n",
      "https://careersome.com/site/job?id=ihs-towers-finance-analyst-program-in-lagos-nigeria\n",
      "Data Scientist at RelianceHMO\n",
      "https://careersome.com/site/job?id=data-scientist-at-reliancehmo\n",
      "Product Support Analyst at Babban Gona\n",
      "https://careersome.com/site/job?id=product-support-analyst-at-babban-gona\n",
      "Process Control Analyst at Babban Gona\n",
      "https://careersome.com/site/job?id=process-control-analyst-at-babban-gona\n"
     ]
    }
   ],
   "source": [
    "search_query = 'data analyst'\n",
    "#for each Job offer we check if any word in the search Query is in our Job list\n",
    "update_query = search_query.lower().split()\n",
    "new_query = '|'.join(update_query)\n",
    "comp = re.compile(new_query)\n",
    "for job in JobList:\n",
    "    if comp.search(job[0].lower()):\n",
    "        print(job[0])\n",
    "        print(job[1])"
   ]
  },
  {
   "cell_type": "code",
   "execution_count": 18,
   "metadata": {},
   "outputs": [
    {
     "name": "stdout",
     "output_type": "stream",
     "text": [
      "Business Developer at Romanspage Global\n",
      "https://careersome.com/site/job?id=business-developer-at-romanspage-global\n",
      "Backend Developer at CloudWare Technologies\n",
      "https://careersome.com/site/job?id=backend-developer-at-cloudware-technologies-2\n",
      "Angular Developer at 390labs\n",
      "https://careersome.com/site/job?id=angular-developer-at-390labs\n",
      "full stack developers (full time / internship) at Anakle\n",
      "https://careersome.com/site/job?id=full-stack-developers-full-time-internship-at-anakle\n",
      "React Developer at The Bulb\n",
      "https://careersome.com/site/job?id=react-developer-at-the-bulb\n",
      "Node.js Developer at The Bulb\n",
      "https://careersome.com/site/job?id=nodejs-developer-at-the-bulb\n",
      "JavaScrip Developer at The Bulb\n",
      "https://careersome.com/site/job?id=javascrip-developer-at-the-bulb\n",
      "Python Web Developer at The Bulb\n",
      "https://careersome.com/site/job?id=python-web-developer-at-the-bulb\n",
      "iOS developer at The Bulb\n",
      "https://careersome.com/site/job?id=ios-developer-at-the-bulb\n",
      "Backend (Python) Developer Intern at Urban Hive Nigeria\n",
      "https://careersome.com/site/internship?id=backend-python-developer-intern-at-urban-hive-nigeria\n",
      "Flutter Mobile Developer at The Bulb</div>\n",
      "https://careersome.com/site/job?id=flutter-mobile-developer-at-the-bulb\n",
      "PHP / Laravel Developer at Astract9\n",
      "https://careersome.com/site/job?id=php-laravel-developer-at-astract9\n",
      "Mobile Developer at Cyberticks\n",
      "https://careersome.com/site/job?id=mobile-developer-at-cyberticks\n",
      "Backend Developer at Cyberticks\n",
      "https://careersome.com/site/job?id=backend-developer-at-cyberticks\n",
      "Frontend Developer at Cyberticks\n",
      "https://careersome.com/site/job?id=frontend-developer-at-cyberticks\n",
      "Back End Developer - Python at Africa Prudential Plc\n",
      "https://careersome.com/site/job?id=back-end-developer-python-at-africa-prudential-plc\n",
      "Back End Developer - Python at Africa Prudential Plc\n",
      "https://careersome.com/site/job?id=back-end-developer-python-at-africa-prudential-plc\n",
      "Fullstack PHP developer at Freeme Digital\n",
      "https://careersome.com/site/job?id=fullstack-php-developer-at-freeme-digital\n",
      "Web Developer (Graduate Trainee) at Eat 'N' Go Limited\n",
      "https://careersome.com/site/job?id=web-developer-graduate-trainee-at-eat-n-go-limited\n",
      "Software Developer (Internship) at Alfred &amp; Victoria Associates</div>\n",
      "https://careersome.com/site/internship?id=software-developer-internship-at-alfred-victoria-associates\n",
      "Software Developer at Oryx Africa\n",
      "https://careersome.com/site/job?id=software-developer-at-oryx-africa\n"
     ]
    }
   ],
   "source": [
    "search_query = 'python developer'\n",
    "#for each Job offer we check if any word in the search Query\n",
    "update_query = search_query.lower().split()\n",
    "new_query = '|'.join(update_query)\n",
    "comp = re.compile(new_query)\n",
    "for job in JobList:\n",
    "    if comp.search(job[0].lower()):\n",
    "        print(job[0])\n",
    "        print(job[1])"
   ]
  },
  {
   "cell_type": "markdown",
   "metadata": {},
   "source": [
    "It would be boring to enter the search text in the program. Let's introduce a simple GUI\n",
    "We will make use of a library called Traits. Note: traits has to be installed (using pip install)"
   ]
  },
  {
   "cell_type": "code",
   "execution_count": 19,
   "metadata": {},
   "outputs": [],
   "source": [
    "from traits.api import HasTraits, Str, Range, Enum, Int\n",
    "from traitsui.api import Item, RangeEditor, View, Label"
   ]
  },
  {
   "cell_type": "code",
   "execution_count": 20,
   "metadata": {},
   "outputs": [
    {
     "data": {
      "text/plain": [
       "True"
      ]
     },
     "execution_count": 20,
     "metadata": {},
     "output_type": "execute_result"
    }
   ],
   "source": [
    "class Job(HasTraits):\n",
    "    name = Str('search here')\n",
    "\n",
    "job = Job()\n",
    "\n",
    "Job_view = View(\n",
    "    Label(\"What Job are you applying for?\"),\n",
    "    Item('name'),\n",
    "    buttons=['OK', 'Cancel'],\n",
    "    title = 'Internship and Entry level Job Search',\n",
    "    resizable = True\n",
    ")\n",
    "job.configure_traits(view=Job_view)"
   ]
  },
  {
   "cell_type": "code",
   "execution_count": 21,
   "metadata": {},
   "outputs": [
    {
     "data": {
      "text/plain": [
       "'data analyst'"
      ]
     },
     "execution_count": 21,
     "metadata": {},
     "output_type": "execute_result"
    }
   ],
   "source": [
    "job.name"
   ]
  },
  {
   "cell_type": "code",
   "execution_count": null,
   "metadata": {},
   "outputs": [],
   "source": []
  },
  {
   "cell_type": "code",
   "execution_count": null,
   "metadata": {},
   "outputs": [],
   "source": []
  },
  {
   "cell_type": "code",
   "execution_count": 22,
   "metadata": {},
   "outputs": [],
   "source": [
    "def generateResult(qry):\n",
    "    result = ''\n",
    "    update_query = qry.lower().split()\n",
    "    new_query = '|'.join(update_query)\n",
    "    comp = re.compile(new_query)\n",
    "    for job in JobList:\n",
    "        if comp.search(job[0].lower()):\n",
    "            result += job[0] + ' \\n '\n",
    "            result += job[1] + ' \\n '\n",
    "    return result"
   ]
  },
  {
   "cell_type": "code",
   "execution_count": 23,
   "metadata": {},
   "outputs": [
    {
     "data": {
      "text/plain": [
       "'Citibank Middle East and Africa Analyst Program 2020, Nigeria</div> \\n https://careersome.com/site/job?id=citibank-middle-east-and-africa-analyst-program-2020-nigeria \\n Procurement Analyst at Arnergy Solar Limited \\n https://careersome.com/site/job?id=procurement-analyst-at-arnergy-solar-limited \\n Pricing &amp; Revenue Management Analyst at Finchglow Travels \\n https://careersome.com/site/job?id=pricing-revenue-management-analyst-at-finchglow-travels \\n Pricing Analyst at Paykobo.com \\n https://careersome.com/site/job?id=pricing-analyst-at-paykobocom \\n Quality Control Support Analyst at RxAll Inc - Ibadan \\n https://careersome.com/site/job?id=quality-control-support-analyst-at-rxall-inc-ibadan \\n SME Analyst at Enugu SME Agency \\n https://careersome.com/site/job?id=sme-analyst-at-enugu-sme-agency \\n Tableau Business Analyst / BI Analyst at Vascon Solutions \\n https://careersome.com/site/job?id=tableau-business-analyst-bi-analyst-at-vascon-solutions \\n Credit Risk Analyst - Intern at BoroMe Limited</div> \\n https://careersome.com/site/internship?id=credit-risk-analyst-intern-at-borome-limited \\n IHS Towers Finance Analyst Program in Lagos, Nigeria \\n https://careersome.com/site/job?id=ihs-towers-finance-analyst-program-in-lagos-nigeria \\n Data Scientist at RelianceHMO \\n https://careersome.com/site/job?id=data-scientist-at-reliancehmo \\n Product Support Analyst at Babban Gona \\n https://careersome.com/site/job?id=product-support-analyst-at-babban-gona \\n Process Control Analyst at Babban Gona \\n https://careersome.com/site/job?id=process-control-analyst-at-babban-gona \\n '"
      ]
     },
     "execution_count": 23,
     "metadata": {},
     "output_type": "execute_result"
    }
   ],
   "source": [
    "generateResult(job.name)"
   ]
  },
  {
   "cell_type": "code",
   "execution_count": 24,
   "metadata": {},
   "outputs": [
    {
     "data": {
      "text/plain": [
       "True"
      ]
     },
     "execution_count": 24,
     "metadata": {},
     "output_type": "execute_result"
    }
   ],
   "source": [
    "class Display(HasTraits):\n",
    "    name = Str('search here')\n",
    "\n",
    "display = Display()\n",
    "\n",
    "Display_view = View(\n",
    "    Label(generateResult(job.name)),\n",
    "    buttons=['OK', 'Cancel'],\n",
    "    title = 'Internship and Entry level Job Search',\n",
    "    resizable = True\n",
    ")\n",
    "display.configure_traits(view=Display_view)"
   ]
  },
  {
   "cell_type": "code",
   "execution_count": 28,
   "metadata": {},
   "outputs": [],
   "source": [
    "#Now Run this cell to Enter your Search and display the result in a GUI\n",
    "if job.configure_traits(view=Job_view):\n",
    "    display = Display()\n",
    "\n",
    "    Display_view = View(\n",
    "    Label(generateResult(job.name)),\n",
    "    buttons=['OK', 'Cancel'],\n",
    "    title = 'Internship and Entry level Job Search',\n",
    "    resizable = True\n",
    "    )\n",
    "    display.configure_traits(view=Display_view)"
   ]
  },
  {
   "cell_type": "code",
   "execution_count": 26,
   "metadata": {},
   "outputs": [
    {
     "data": {
      "text/plain": [
       "'data analyst'"
      ]
     },
     "execution_count": 26,
     "metadata": {},
     "output_type": "execute_result"
    }
   ],
   "source": [
    "job.name"
   ]
  },
  {
   "cell_type": "markdown",
   "metadata": {},
   "source": [
    "# Thank You"
   ]
  },
  {
   "cell_type": "code",
   "execution_count": null,
   "metadata": {},
   "outputs": [],
   "source": []
  }
 ],
 "metadata": {
  "kernelspec": {
   "display_name": "Python 3",
   "language": "python",
   "name": "python3"
  },
  "language_info": {
   "codemirror_mode": {
    "name": "ipython",
    "version": 3
   },
   "file_extension": ".py",
   "mimetype": "text/x-python",
   "name": "python",
   "nbconvert_exporter": "python",
   "pygments_lexer": "ipython3",
   "version": "3.7.4"
  }
 },
 "nbformat": 4,
 "nbformat_minor": 2
}
